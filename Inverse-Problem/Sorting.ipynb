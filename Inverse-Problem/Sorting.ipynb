{
 "cells": [
  {
   "cell_type": "code",
   "execution_count": 1,
   "metadata": {},
   "outputs": [],
   "source": [
    "def insertionSort(arr): \n",
    "    for i in range(1, len(arr)):\n",
    "        key = arr[i] \n",
    "        j = i\n",
    "        while j >= 1 and arr[j-1] > key:\n",
    "            arr[j] = arr[j-1]\n",
    "            j -= 1\n",
    "            arr[j] = key"
   ]
  },
  {
   "cell_type": "code",
   "execution_count": 2,
   "metadata": {},
   "outputs": [],
   "source": [
    "def shellSort(arr): \n",
    "    n = len(arr)\n",
    "    gap = 1\n",
    "    while gap < n/3:\n",
    "        gap = gap * 3 + 1\n",
    "    while gap > 0: \n",
    "        for i in range(gap, n): \n",
    "            temp = arr[i]\n",
    "            j = i \n",
    "            while  j >= gap and arr[j-gap] > temp:\n",
    "                arr[j] = arr[j-gap] \n",
    "                j -= gap \n",
    "                arr[j] = temp  \n",
    "        gap = int((gap - 1) / 3)"
   ]
  },
  {
   "cell_type": "code",
   "execution_count": 3,
   "metadata": {},
   "outputs": [],
   "source": [
    "def partition(arr, low, high): \n",
    "    pos = low\n",
    "    pivot = arr[high]\n",
    "\n",
    "    for j in range(low , high): \n",
    "        if arr[j] <= pivot: \n",
    "            arr[j], arr[pos] = arr[pos], arr[j]\n",
    "            pos += 1\n",
    "    arr[pos], arr[high] = arr[high], arr[pos] \n",
    "    return pos\n",
    "\n",
    "def quickSort(arr, low, high): \n",
    "    if low < high: \n",
    "        pi = partition(arr,low,high) \n",
    "        quickSort(arr, low, pi-1) \n",
    "        quickSort(arr, pi+1, high) "
   ]
  }
 ],
 "metadata": {
  "kernelspec": {
   "display_name": "Python (Pytorch)",
   "language": "python",
   "name": "pytorch"
  },
  "language_info": {
   "codemirror_mode": {
    "name": "ipython",
    "version": 3
   },
   "file_extension": ".py",
   "mimetype": "text/x-python",
   "name": "python",
   "nbconvert_exporter": "python",
   "pygments_lexer": "ipython3",
   "version": "3.6.10"
  }
 },
 "nbformat": 4,
 "nbformat_minor": 4
}
